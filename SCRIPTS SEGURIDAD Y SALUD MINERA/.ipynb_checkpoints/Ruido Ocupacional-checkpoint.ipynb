{
 "cells": [
  {
   "cell_type": "markdown",
   "metadata": {},
   "source": [
    "# Ruido Ocupacional"
   ]
  },
  {
   "cell_type": "markdown",
   "metadata": {},
   "source": [
    "## Intensidad Sonora"
   ]
  },
  {
   "cell_type": "code",
   "execution_count": 12,
   "metadata": {},
   "outputs": [
    {
     "name": "stdout",
     "output_type": "stream",
     "text": [
      "Digite el Nivel de intensidad sonora85\n",
      "0.00031622776601683794 w/m2\n"
     ]
    }
   ],
   "source": [
    "NIS = float(input(\"Digite el Nivel de intensidad sonora: \"))\n",
    "I = 10 ** ((NIS/10)-12)\n",
    "print(str(I) + \" w/m2\")"
   ]
  },
  {
   "cell_type": "markdown",
   "metadata": {},
   "source": [
    "## Nivel de Intensidad Sonora"
   ]
  },
  {
   "cell_type": "code",
   "execution_count": 15,
   "metadata": {},
   "outputs": [
    {
     "name": "stdout",
     "output_type": "stream",
     "text": [
      "Digite la Intensidad sonora10\n",
      "130.0 dB\n"
     ]
    }
   ],
   "source": [
    "import numpy as np\n",
    "I = float(input(\"Digite la Intensidad sonora: \"))\n",
    "NIS = 10 * (np.log10(I/10**(-12)))\n",
    "print(str(NIS) + \" dB\")"
   ]
  },
  {
   "cell_type": "markdown",
   "metadata": {},
   "source": [
    "## Presión Sonora"
   ]
  },
  {
   "cell_type": "code",
   "execution_count": 20,
   "metadata": {},
   "outputs": [
    {
     "name": "stdout",
     "output_type": "stream",
     "text": [
      "Digite el Nivel de presión sonora: 120\n",
      "20.0 N/m2\n"
     ]
    }
   ],
   "source": [
    "NPS = float(input(\"Digite el Nivel de presión sonora: \"))\n",
    "I = 2 * (10**(NPS/20 - 5))\n",
    "print(str(I) + \" N/m2\")"
   ]
  },
  {
   "cell_type": "markdown",
   "metadata": {},
   "source": [
    "## Nivel de Presión Sonora"
   ]
  },
  {
   "cell_type": "code",
   "execution_count": 19,
   "metadata": {},
   "outputs": [
    {
     "name": "stdout",
     "output_type": "stream",
     "text": [
      "Digite la Intensidad sonora20\n",
      "120.0 dB\n"
     ]
    }
   ],
   "source": [
    "import numpy as np\n",
    "P = float(input(\"Digite la presión sonora: \"))\n",
    "NPS = 20 * np.log10(P/(2*10**-5))\n",
    "print(str(NPS) + \" dB\")"
   ]
  },
  {
   "cell_type": "markdown",
   "metadata": {},
   "source": [
    "## Propagación del Sonido"
   ]
  },
  {
   "cell_type": "code",
   "execution_count": 9,
   "metadata": {},
   "outputs": [
    {
     "name": "stdout",
     "output_type": "stream",
     "text": [
      "Digite el Nivel de presión sonora: 86\n",
      "Digite el primer radio: 1\n",
      "Digite el segundo radio: 2\n",
      "80.0 dB\n"
     ]
    }
   ],
   "source": [
    "import numpy as np\n",
    "NPS1 = float(input(\"Digite el Nivel de presión sonora: \"))\n",
    "r1 = float(input(\"Digite el primer radio: \"))\n",
    "r2 = float(input(\"Digite el segundo radio: \"))\n",
    "NPS2 = NPS1 + 20 * np.log10(r1/r2)\n",
    "print(f\"{round(NPS2)} dB\")"
   ]
  },
  {
   "cell_type": "markdown",
   "metadata": {},
   "source": [
    "## Medición Basado en el Trabajo\n",
    "**Ng = Numero de Individuos afectados**\n",
    "\n",
    "**GES = Número de Exposición Similar**\n",
    "\n",
    "* Ng <= 5 ---> t = 5h\n",
    "* 5 < Ng < 15 ---> t = 5 + (Ng-5)/2\n",
    "* 15 < Ng < 40 ---> t = 10 + (Ng-15)/2\n",
    "* Ng > 40 ---> t = 17h\n",
    "\n",
    "**#Mi >= 5 and sumti >= t**"
   ]
  },
  {
   "cell_type": "code",
   "execution_count": 8,
   "metadata": {},
   "outputs": [
    {
     "name": "stdout",
     "output_type": "stream",
     "text": [
      "Digite el número de individuos involucrados: 13\n",
      "Digite el número de mediciones que pretende hacer: 5\n",
      "El tiempo total es 9.0 horas\n",
      "El tiempo promedio para cada medición será: 1.8 horas\n"
     ]
    }
   ],
   "source": [
    "Ng = float(input(\"Digite el número de individuos involucrados: \"))\n",
    "if Ng <= 5:\n",
    "    t = 5\n",
    "elif 5 < Ng <= 15:\n",
    "    t = 5 + (Ng-5)/2\n",
    "elif 15 < Ng <= 40:\n",
    "    t = 10 + (Ng-15)/4\n",
    "elif Ng >40:\n",
    "    t = 17\n",
    "M = int(input(\"Digite el número de mediciones que pretende hacer: \"))\n",
    "tn = t / M\n",
    "print(f\"El tiempo total es {t} horas\")\n",
    "print(f\"El tiempo promedio para cada medición será: {tn} horas\")"
   ]
  },
  {
   "cell_type": "markdown",
   "metadata": {},
   "source": [
    "## Suma de Decibeles"
   ]
  },
  {
   "cell_type": "code",
   "execution_count": 1,
   "metadata": {},
   "outputs": [
    {
     "name": "stdout",
     "output_type": "stream",
     "text": [
      "Digite el número de decibeles que quiere sumar: 2\n",
      "NIS1 = 80\n",
      "NIS2 = 83\n",
      "NIS = 84.76 dB\n"
     ]
    }
   ],
   "source": [
    "import numpy as np\n",
    "n = int(input(\"Digite el número de decibeles que quiere sumar: \"))\n",
    "sum = 0\n",
    "for i in range(n):\n",
    "    i = float(input(f\"NIS{i+1} = \"))\n",
    "    nis = 10**(i/10)\n",
    "    sum += nis\n",
    "NIS = 10 * np.log10(sum)\n",
    "print(f\"NIS = {round(NIS,2)} dB\")"
   ]
  },
  {
   "cell_type": "markdown",
   "metadata": {},
   "source": [
    "## Nivel de Presión Sonora Equivalente"
   ]
  },
  {
   "cell_type": "code",
   "execution_count": 2,
   "metadata": {},
   "outputs": [
    {
     "name": "stdout",
     "output_type": "stream",
     "text": [
      "Digite el número de medicones: 3\n",
      "NIS1 = 82\n",
      "t1 = 2\n",
      "NIS2 = 84\n",
      "t2 = 3\n",
      "NIS3 = 86.2\n",
      "t3 = 4\n",
      "NPS = 84.83 dB/9.0h\n",
      "NPS8H = 84.88\n"
     ]
    }
   ],
   "source": [
    "import numpy as np\n",
    "n = int(input(\"Digite el número de medicones: \"))\n",
    "c = []\n",
    "for a in range(n):\n",
    "    c.append(a)\n",
    "sum1 = 0\n",
    "sum2 = 0\n",
    "for i, j in enumerate(c):\n",
    "    i = float(input(f\"NIS{i+1} = \"))\n",
    "    j = float(input(f\"t{j+1} = \"))\n",
    "    nps = j * 10**(i/10)\n",
    "    sum1 += nps\n",
    "    sum2 += j\n",
    "    \n",
    "NPS = 10 * np.log10(sum1/sum2)\n",
    "NPS8H = NPS + np.log10(sum2/8)\n",
    "print(f\"NPS = {round(NPS,2)} dB/{sum2}h\")\n",
    "print(f\"NPS8H = {round(NPS8H,2)}\")"
   ]
  },
  {
   "cell_type": "markdown",
   "metadata": {},
   "source": [
    "## Tiempo Máximo de Exposición"
   ]
  },
  {
   "cell_type": "code",
   "execution_count": 3,
   "metadata": {},
   "outputs": [
    {
     "name": "stdout",
     "output_type": "stream",
     "text": [
      "Digite el Nivel de Presión Sonora: 85\n",
      "8.0 horas\n"
     ]
    }
   ],
   "source": [
    "NPS = float(input(\"Digite el Nivel de Presión Sonora: \"))\n",
    "texp = 8 / (2**((NPS-85)/3))\n",
    "print(f\"{texp} horas\")"
   ]
  },
  {
   "cell_type": "markdown",
   "metadata": {},
   "source": [
    "## Dosis (porcentaje %)"
   ]
  },
  {
   "cell_type": "code",
   "execution_count": 4,
   "metadata": {},
   "outputs": [
    {
     "name": "stdout",
     "output_type": "stream",
     "text": [
      "Digite el tiempo de exposición: 5\n",
      "Digite el Nivel de Presión Sonora: 86\n",
      "78.74506561842958 %\n"
     ]
    }
   ],
   "source": [
    "texp = float(input(\"Digite el tiempo de exposición: \"))\n",
    "NPS = float(input(\"Digite el Nivel de Presión Sonora: \"))\n",
    "D = (texp/8) * 2**((NPS-85)/3) * 100\n",
    "print(f\"{D} %\")"
   ]
  },
  {
   "cell_type": "markdown",
   "metadata": {},
   "source": [
    "# Calculo Dosis segun RM 375 - 08"
   ]
  },
  {
   "cell_type": "code",
   "execution_count": 5,
   "metadata": {},
   "outputs": [
    {
     "name": "stdout",
     "output_type": "stream",
     "text": [
      "Digite el número de medicones: 3\n",
      "NIS1 = 82\n",
      "t1 = 2\n",
      "NIS2 = 84\n",
      "t2 = 3\n",
      "NIS3 = 86.2\n",
      "t3 = 4\n",
      "Dosis = 108.2391652630485 %\n"
     ]
    }
   ],
   "source": [
    "import numpy as np\n",
    "n = int(input(\"Digite el número de medicones: \"))\n",
    "c = []\n",
    "for a in range(n):\n",
    "    c.append(a)\n",
    "sum = 0\n",
    "for i, j in enumerate(c):\n",
    "    i = float(input(f\"NIS{i+1} = \"))\n",
    "    j = float(input(f\"t{j+1} = \"))\n",
    "    texp = 8 / 2**((i-85)/3)\n",
    "    t = j / texp\n",
    "    sum += t\n",
    "    \n",
    "D = sum * 100\n",
    "\n",
    "print(f\"Dosis = {D} %\")"
   ]
  },
  {
   "cell_type": "markdown",
   "metadata": {},
   "source": [
    "## Controles\n",
    "* Fuente: Se necesita conociemtos de acustica\n",
    "* Medio: Se necesita conociemtos de acustica (paneles, paredes)\n",
    "* Persona: EPP (Metodo ANSI S.319-1974 recomendado por OSHA y se hace referencia al nivel de reducción de ruido de un equipo de protección personal) tapon - orejera"
   ]
  },
  {
   "cell_type": "code",
   "execution_count": null,
   "metadata": {},
   "outputs": [],
   "source": []
  }
 ],
 "metadata": {
  "kernelspec": {
   "display_name": "Python 3",
   "language": "python",
   "name": "python3"
  },
  "language_info": {
   "codemirror_mode": {
    "name": "ipython",
    "version": 3
   },
   "file_extension": ".py",
   "mimetype": "text/x-python",
   "name": "python",
   "nbconvert_exporter": "python",
   "pygments_lexer": "ipython3",
   "version": "3.7.6"
  }
 },
 "nbformat": 4,
 "nbformat_minor": 4
}
