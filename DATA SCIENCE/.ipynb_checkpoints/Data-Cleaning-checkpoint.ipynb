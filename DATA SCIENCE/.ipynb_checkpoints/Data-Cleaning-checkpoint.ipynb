{
 "cells": [
  {
   "cell_type": "markdown",
   "metadata": {},
   "source": [
    "# DATA CLEANING - MODELO DE RECURSOS"
   ]
  },
  {
   "cell_type": "code",
   "execution_count": 34,
   "metadata": {},
   "outputs": [],
   "source": [
    "import pandas as pd\n",
    "import os\n",
    "import numpy as np\n",
    "import matplotlib.pyplot as plt"
   ]
  },
  {
   "cell_type": "code",
   "execution_count": 10,
   "metadata": {},
   "outputs": [
    {
     "name": "stdout",
     "output_type": "stream",
     "text": [
      "C:/Users/egt_d/SCRIPTS MINERIA\\DATA SCIENCE/samp_Esperanza.csv\n"
     ]
    }
   ],
   "source": [
    "mainpath = r\"C:/Users/egt_d/SCRIPTS MINERIA\"\n",
    "filename = r\"DATA SCIENCE/samp_Esperanza.csv\"\n",
    "fullpath = os.path.join(mainpath, filename)\n",
    "print(fullpath)"
   ]
  },
  {
   "cell_type": "code",
   "execution_count": 11,
   "metadata": {},
   "outputs": [],
   "source": [
    "data = pd.read_csv(fullpath)"
   ]
  },
  {
   "cell_type": "code",
   "execution_count": 12,
   "metadata": {},
   "outputs": [
    {
     "data": {
      "text/html": [
       "<div>\n",
       "<style scoped>\n",
       "    .dataframe tbody tr th:only-of-type {\n",
       "        vertical-align: middle;\n",
       "    }\n",
       "\n",
       "    .dataframe tbody tr th {\n",
       "        vertical-align: top;\n",
       "    }\n",
       "\n",
       "    .dataframe thead th {\n",
       "        text-align: right;\n",
       "    }\n",
       "</style>\n",
       "<table border=\"1\" class=\"dataframe\">\n",
       "  <thead>\n",
       "    <tr style=\"text-align: right;\">\n",
       "      <th></th>\n",
       "      <th>X</th>\n",
       "      <th>Y</th>\n",
       "      <th>Z</th>\n",
       "      <th>BHID</th>\n",
       "      <th>LENGTH</th>\n",
       "      <th>A0</th>\n",
       "      <th>B0</th>\n",
       "      <th>C0</th>\n",
       "      <th>FROM</th>\n",
       "      <th>TO</th>\n",
       "      <th>Zn</th>\n",
       "      <th>Ag</th>\n",
       "      <th>Pb</th>\n",
       "      <th>RADIUS</th>\n",
       "    </tr>\n",
       "  </thead>\n",
       "  <tbody>\n",
       "    <tr>\n",
       "      <th>0</th>\n",
       "      <td>1697.682161</td>\n",
       "      <td>4963.496673</td>\n",
       "      <td>2176.795399</td>\n",
       "      <td>DDH-001</td>\n",
       "      <td>1.08</td>\n",
       "      <td>295.271669</td>\n",
       "      <td>-24.229835</td>\n",
       "      <td>0</td>\n",
       "      <td>89.42</td>\n",
       "      <td>90.50</td>\n",
       "      <td>20.849644</td>\n",
       "      <td>7.812</td>\n",
       "      <td>6.532</td>\n",
       "      <td>1</td>\n",
       "    </tr>\n",
       "    <tr>\n",
       "      <th>1</th>\n",
       "      <td>1697.001840</td>\n",
       "      <td>4963.817848</td>\n",
       "      <td>2177.133977</td>\n",
       "      <td>DDH-001</td>\n",
       "      <td>0.57</td>\n",
       "      <td>295.271669</td>\n",
       "      <td>-24.229835</td>\n",
       "      <td>0</td>\n",
       "      <td>90.50</td>\n",
       "      <td>91.07</td>\n",
       "      <td>15.211116</td>\n",
       "      <td>1.944</td>\n",
       "      <td>0.604</td>\n",
       "      <td>1</td>\n",
       "    </tr>\n",
       "    <tr>\n",
       "      <th>2</th>\n",
       "      <td>1696.354504</td>\n",
       "      <td>4964.123450</td>\n",
       "      <td>2177.456140</td>\n",
       "      <td>DDH-001</td>\n",
       "      <td>1.00</td>\n",
       "      <td>295.271669</td>\n",
       "      <td>-24.229835</td>\n",
       "      <td>0</td>\n",
       "      <td>91.07</td>\n",
       "      <td>92.07</td>\n",
       "      <td>7.680000</td>\n",
       "      <td>1.648</td>\n",
       "      <td>0.368</td>\n",
       "      <td>1</td>\n",
       "    </tr>\n",
       "    <tr>\n",
       "      <th>3</th>\n",
       "      <td>1721.974638</td>\n",
       "      <td>4977.965650</td>\n",
       "      <td>2176.215040</td>\n",
       "      <td>DDH-002</td>\n",
       "      <td>1.16</td>\n",
       "      <td>314.028978</td>\n",
       "      <td>-27.552286</td>\n",
       "      <td>0</td>\n",
       "      <td>77.86</td>\n",
       "      <td>79.02</td>\n",
       "      <td>19.700496</td>\n",
       "      <td>1.716</td>\n",
       "      <td>2.748</td>\n",
       "      <td>1</td>\n",
       "    </tr>\n",
       "    <tr>\n",
       "      <th>4</th>\n",
       "      <td>1721.557110</td>\n",
       "      <td>4978.369260</td>\n",
       "      <td>2176.518015</td>\n",
       "      <td>DDH-002</td>\n",
       "      <td>0.15</td>\n",
       "      <td>314.028978</td>\n",
       "      <td>-27.552286</td>\n",
       "      <td>0</td>\n",
       "      <td>79.02</td>\n",
       "      <td>79.17</td>\n",
       "      <td>2.160000</td>\n",
       "      <td>0.068</td>\n",
       "      <td>0.024</td>\n",
       "      <td>1</td>\n",
       "    </tr>\n",
       "  </tbody>\n",
       "</table>\n",
       "</div>"
      ],
      "text/plain": [
       "             X            Y            Z     BHID  LENGTH          A0  \\\n",
       "0  1697.682161  4963.496673  2176.795399  DDH-001    1.08  295.271669   \n",
       "1  1697.001840  4963.817848  2177.133977  DDH-001    0.57  295.271669   \n",
       "2  1696.354504  4964.123450  2177.456140  DDH-001    1.00  295.271669   \n",
       "3  1721.974638  4977.965650  2176.215040  DDH-002    1.16  314.028978   \n",
       "4  1721.557110  4978.369260  2176.518015  DDH-002    0.15  314.028978   \n",
       "\n",
       "          B0  C0   FROM     TO         Zn     Ag     Pb  RADIUS  \n",
       "0 -24.229835   0  89.42  90.50  20.849644  7.812  6.532       1  \n",
       "1 -24.229835   0  90.50  91.07  15.211116  1.944  0.604       1  \n",
       "2 -24.229835   0  91.07  92.07   7.680000  1.648  0.368       1  \n",
       "3 -27.552286   0  77.86  79.02  19.700496  1.716  2.748       1  \n",
       "4 -27.552286   0  79.02  79.17   2.160000  0.068  0.024       1  "
      ]
     },
     "execution_count": 12,
     "metadata": {},
     "output_type": "execute_result"
    }
   ],
   "source": [
    "data.head()"
   ]
  },
  {
   "cell_type": "code",
   "execution_count": 13,
   "metadata": {},
   "outputs": [
    {
     "data": {
      "text/plain": [
       "array(['X', 'Y', 'Z', 'BHID', 'LENGTH', 'A0', 'B0', 'C0', 'FROM', 'TO',\n",
       "       'Zn', 'Ag', 'Pb', 'RADIUS'], dtype=object)"
      ]
     },
     "execution_count": 13,
     "metadata": {},
     "output_type": "execute_result"
    }
   ],
   "source": [
    "data.columns.values"
   ]
  },
  {
   "cell_type": "code",
   "execution_count": 14,
   "metadata": {},
   "outputs": [
    {
     "data": {
      "text/html": [
       "<div>\n",
       "<style scoped>\n",
       "    .dataframe tbody tr th:only-of-type {\n",
       "        vertical-align: middle;\n",
       "    }\n",
       "\n",
       "    .dataframe tbody tr th {\n",
       "        vertical-align: top;\n",
       "    }\n",
       "\n",
       "    .dataframe thead th {\n",
       "        text-align: right;\n",
       "    }\n",
       "</style>\n",
       "<table border=\"1\" class=\"dataframe\">\n",
       "  <thead>\n",
       "    <tr style=\"text-align: right;\">\n",
       "      <th></th>\n",
       "      <th>X</th>\n",
       "      <th>Y</th>\n",
       "      <th>Z</th>\n",
       "      <th>BHID</th>\n",
       "      <th>LENGTH</th>\n",
       "      <th>A0</th>\n",
       "      <th>B0</th>\n",
       "      <th>C0</th>\n",
       "      <th>FROM</th>\n",
       "      <th>TO</th>\n",
       "      <th>Zn</th>\n",
       "      <th>Ag</th>\n",
       "      <th>Pb</th>\n",
       "      <th>RADIUS</th>\n",
       "    </tr>\n",
       "  </thead>\n",
       "  <tbody>\n",
       "    <tr>\n",
       "      <th>729</th>\n",
       "      <td>1920.943128</td>\n",
       "      <td>5108.682126</td>\n",
       "      <td>2252.28</td>\n",
       "      <td>DDH-130</td>\n",
       "      <td>1.52</td>\n",
       "      <td>355.0</td>\n",
       "      <td>0.0</td>\n",
       "      <td>0</td>\n",
       "      <td>38.10</td>\n",
       "      <td>39.62</td>\n",
       "      <td>13.722800</td>\n",
       "      <td>3.968320</td>\n",
       "      <td>0.484</td>\n",
       "      <td>1</td>\n",
       "    </tr>\n",
       "    <tr>\n",
       "      <th>730</th>\n",
       "      <td>1945.310884</td>\n",
       "      <td>5114.963650</td>\n",
       "      <td>2252.28</td>\n",
       "      <td>DDH-131</td>\n",
       "      <td>0.83</td>\n",
       "      <td>25.0</td>\n",
       "      <td>0.0</td>\n",
       "      <td>0</td>\n",
       "      <td>49.23</td>\n",
       "      <td>50.06</td>\n",
       "      <td>5.460000</td>\n",
       "      <td>1.940068</td>\n",
       "      <td>0.228</td>\n",
       "      <td>1</td>\n",
       "    </tr>\n",
       "    <tr>\n",
       "      <th>731</th>\n",
       "      <td>1897.218514</td>\n",
       "      <td>5097.168486</td>\n",
       "      <td>2252.43</td>\n",
       "      <td>DDH-132</td>\n",
       "      <td>0.51</td>\n",
       "      <td>355.0</td>\n",
       "      <td>0.0</td>\n",
       "      <td>0</td>\n",
       "      <td>22.48</td>\n",
       "      <td>22.99</td>\n",
       "      <td>9.780000</td>\n",
       "      <td>1.366864</td>\n",
       "      <td>0.512</td>\n",
       "      <td>1</td>\n",
       "    </tr>\n",
       "    <tr>\n",
       "      <th>732</th>\n",
       "      <td>1897.168835</td>\n",
       "      <td>5097.736317</td>\n",
       "      <td>2252.43</td>\n",
       "      <td>DDH-132</td>\n",
       "      <td>0.63</td>\n",
       "      <td>355.0</td>\n",
       "      <td>0.0</td>\n",
       "      <td>0</td>\n",
       "      <td>22.99</td>\n",
       "      <td>23.62</td>\n",
       "      <td>3.360000</td>\n",
       "      <td>0.529108</td>\n",
       "      <td>0.136</td>\n",
       "      <td>1</td>\n",
       "    </tr>\n",
       "    <tr>\n",
       "      <th>733</th>\n",
       "      <td>1897.094753</td>\n",
       "      <td>5098.583083</td>\n",
       "      <td>2252.43</td>\n",
       "      <td>DDH-132</td>\n",
       "      <td>1.07</td>\n",
       "      <td>355.0</td>\n",
       "      <td>0.0</td>\n",
       "      <td>0</td>\n",
       "      <td>23.62</td>\n",
       "      <td>24.69</td>\n",
       "      <td>13.341456</td>\n",
       "      <td>2.160528</td>\n",
       "      <td>1.592</td>\n",
       "      <td>1</td>\n",
       "    </tr>\n",
       "  </tbody>\n",
       "</table>\n",
       "</div>"
      ],
      "text/plain": [
       "               X            Y        Z     BHID  LENGTH     A0   B0  C0  \\\n",
       "729  1920.943128  5108.682126  2252.28  DDH-130    1.52  355.0  0.0   0   \n",
       "730  1945.310884  5114.963650  2252.28  DDH-131    0.83   25.0  0.0   0   \n",
       "731  1897.218514  5097.168486  2252.43  DDH-132    0.51  355.0  0.0   0   \n",
       "732  1897.168835  5097.736317  2252.43  DDH-132    0.63  355.0  0.0   0   \n",
       "733  1897.094753  5098.583083  2252.43  DDH-132    1.07  355.0  0.0   0   \n",
       "\n",
       "      FROM     TO         Zn        Ag     Pb  RADIUS  \n",
       "729  38.10  39.62  13.722800  3.968320  0.484       1  \n",
       "730  49.23  50.06   5.460000  1.940068  0.228       1  \n",
       "731  22.48  22.99   9.780000  1.366864  0.512       1  \n",
       "732  22.99  23.62   3.360000  0.529108  0.136       1  \n",
       "733  23.62  24.69  13.341456  2.160528  1.592       1  "
      ]
     },
     "execution_count": 14,
     "metadata": {},
     "output_type": "execute_result"
    }
   ],
   "source": [
    "data.tail()"
   ]
  },
  {
   "cell_type": "code",
   "execution_count": 16,
   "metadata": {},
   "outputs": [
    {
     "data": {
      "text/plain": [
       "(734, 14)"
      ]
     },
     "execution_count": 16,
     "metadata": {},
     "output_type": "execute_result"
    }
   ],
   "source": [
    "data.shape"
   ]
  },
  {
   "cell_type": "code",
   "execution_count": 17,
   "metadata": {},
   "outputs": [
    {
     "data": {
      "text/html": [
       "<div>\n",
       "<style scoped>\n",
       "    .dataframe tbody tr th:only-of-type {\n",
       "        vertical-align: middle;\n",
       "    }\n",
       "\n",
       "    .dataframe tbody tr th {\n",
       "        vertical-align: top;\n",
       "    }\n",
       "\n",
       "    .dataframe thead th {\n",
       "        text-align: right;\n",
       "    }\n",
       "</style>\n",
       "<table border=\"1\" class=\"dataframe\">\n",
       "  <thead>\n",
       "    <tr style=\"text-align: right;\">\n",
       "      <th></th>\n",
       "      <th>X</th>\n",
       "      <th>Y</th>\n",
       "      <th>Z</th>\n",
       "      <th>LENGTH</th>\n",
       "      <th>A0</th>\n",
       "      <th>B0</th>\n",
       "      <th>C0</th>\n",
       "      <th>FROM</th>\n",
       "      <th>TO</th>\n",
       "      <th>Zn</th>\n",
       "      <th>Ag</th>\n",
       "      <th>Pb</th>\n",
       "      <th>RADIUS</th>\n",
       "    </tr>\n",
       "  </thead>\n",
       "  <tbody>\n",
       "    <tr>\n",
       "      <th>count</th>\n",
       "      <td>734.000000</td>\n",
       "      <td>734.000000</td>\n",
       "      <td>734.000000</td>\n",
       "      <td>734.000000</td>\n",
       "      <td>734.000000</td>\n",
       "      <td>734.000000</td>\n",
       "      <td>734.0</td>\n",
       "      <td>734.000000</td>\n",
       "      <td>734.000000</td>\n",
       "      <td>734.000000</td>\n",
       "      <td>734.000000</td>\n",
       "      <td>734.000000</td>\n",
       "      <td>734.0</td>\n",
       "    </tr>\n",
       "    <tr>\n",
       "      <th>mean</th>\n",
       "      <td>1831.858613</td>\n",
       "      <td>5009.365836</td>\n",
       "      <td>2058.674431</td>\n",
       "      <td>0.762003</td>\n",
       "      <td>254.615988</td>\n",
       "      <td>5.126752</td>\n",
       "      <td>0.0</td>\n",
       "      <td>109.160708</td>\n",
       "      <td>109.922711</td>\n",
       "      <td>13.196603</td>\n",
       "      <td>2.058828</td>\n",
       "      <td>1.499127</td>\n",
       "      <td>1.0</td>\n",
       "    </tr>\n",
       "    <tr>\n",
       "      <th>std</th>\n",
       "      <td>83.100127</td>\n",
       "      <td>38.716808</td>\n",
       "      <td>115.043644</td>\n",
       "      <td>0.251346</td>\n",
       "      <td>115.039827</td>\n",
       "      <td>19.230148</td>\n",
       "      <td>0.0</td>\n",
       "      <td>51.657493</td>\n",
       "      <td>51.642547</td>\n",
       "      <td>7.322328</td>\n",
       "      <td>2.799116</td>\n",
       "      <td>1.849942</td>\n",
       "      <td>0.0</td>\n",
       "    </tr>\n",
       "    <tr>\n",
       "      <th>min</th>\n",
       "      <td>1598.525178</td>\n",
       "      <td>4886.327279</td>\n",
       "      <td>1782.791462</td>\n",
       "      <td>0.150000</td>\n",
       "      <td>0.203530</td>\n",
       "      <td>-33.123529</td>\n",
       "      <td>0.0</td>\n",
       "      <td>0.450000</td>\n",
       "      <td>0.750000</td>\n",
       "      <td>0.006000</td>\n",
       "      <td>0.004000</td>\n",
       "      <td>0.001600</td>\n",
       "      <td>1.0</td>\n",
       "    </tr>\n",
       "    <tr>\n",
       "      <th>25%</th>\n",
       "      <td>1772.151834</td>\n",
       "      <td>4980.057423</td>\n",
       "      <td>1988.416752</td>\n",
       "      <td>0.570000</td>\n",
       "      <td>187.762934</td>\n",
       "      <td>-10.910126</td>\n",
       "      <td>0.0</td>\n",
       "      <td>71.675000</td>\n",
       "      <td>72.362500</td>\n",
       "      <td>10.117343</td>\n",
       "      <td>0.476771</td>\n",
       "      <td>0.160482</td>\n",
       "      <td>1.0</td>\n",
       "    </tr>\n",
       "    <tr>\n",
       "      <th>50%</th>\n",
       "      <td>1844.343156</td>\n",
       "      <td>5007.739969</td>\n",
       "      <td>2037.295183</td>\n",
       "      <td>0.800000</td>\n",
       "      <td>311.374299</td>\n",
       "      <td>7.780319</td>\n",
       "      <td>0.0</td>\n",
       "      <td>103.675000</td>\n",
       "      <td>104.525000</td>\n",
       "      <td>13.625690</td>\n",
       "      <td>1.209036</td>\n",
       "      <td>0.808600</td>\n",
       "      <td>1.0</td>\n",
       "    </tr>\n",
       "    <tr>\n",
       "      <th>75%</th>\n",
       "      <td>1877.548348</td>\n",
       "      <td>5035.472945</td>\n",
       "      <td>2175.753782</td>\n",
       "      <td>1.000000</td>\n",
       "      <td>330.689993</td>\n",
       "      <td>18.637664</td>\n",
       "      <td>0.0</td>\n",
       "      <td>145.032500</td>\n",
       "      <td>145.650000</td>\n",
       "      <td>18.337826</td>\n",
       "      <td>2.569760</td>\n",
       "      <td>2.103723</td>\n",
       "      <td>1.0</td>\n",
       "    </tr>\n",
       "    <tr>\n",
       "      <th>max</th>\n",
       "      <td>2068.161102</td>\n",
       "      <td>5155.386663</td>\n",
       "      <td>2317.280000</td>\n",
       "      <td>1.550000</td>\n",
       "      <td>359.784448</td>\n",
       "      <td>51.274051</td>\n",
       "      <td>0.0</td>\n",
       "      <td>530.500000</td>\n",
       "      <td>530.800000</td>\n",
       "      <td>29.936747</td>\n",
       "      <td>28.016660</td>\n",
       "      <td>13.421196</td>\n",
       "      <td>1.0</td>\n",
       "    </tr>\n",
       "  </tbody>\n",
       "</table>\n",
       "</div>"
      ],
      "text/plain": [
       "                 X            Y            Z      LENGTH          A0  \\\n",
       "count   734.000000   734.000000   734.000000  734.000000  734.000000   \n",
       "mean   1831.858613  5009.365836  2058.674431    0.762003  254.615988   \n",
       "std      83.100127    38.716808   115.043644    0.251346  115.039827   \n",
       "min    1598.525178  4886.327279  1782.791462    0.150000    0.203530   \n",
       "25%    1772.151834  4980.057423  1988.416752    0.570000  187.762934   \n",
       "50%    1844.343156  5007.739969  2037.295183    0.800000  311.374299   \n",
       "75%    1877.548348  5035.472945  2175.753782    1.000000  330.689993   \n",
       "max    2068.161102  5155.386663  2317.280000    1.550000  359.784448   \n",
       "\n",
       "               B0     C0        FROM          TO          Zn          Ag  \\\n",
       "count  734.000000  734.0  734.000000  734.000000  734.000000  734.000000   \n",
       "mean     5.126752    0.0  109.160708  109.922711   13.196603    2.058828   \n",
       "std     19.230148    0.0   51.657493   51.642547    7.322328    2.799116   \n",
       "min    -33.123529    0.0    0.450000    0.750000    0.006000    0.004000   \n",
       "25%    -10.910126    0.0   71.675000   72.362500   10.117343    0.476771   \n",
       "50%      7.780319    0.0  103.675000  104.525000   13.625690    1.209036   \n",
       "75%     18.637664    0.0  145.032500  145.650000   18.337826    2.569760   \n",
       "max     51.274051    0.0  530.500000  530.800000   29.936747   28.016660   \n",
       "\n",
       "               Pb  RADIUS  \n",
       "count  734.000000   734.0  \n",
       "mean     1.499127     1.0  \n",
       "std      1.849942     0.0  \n",
       "min      0.001600     1.0  \n",
       "25%      0.160482     1.0  \n",
       "50%      0.808600     1.0  \n",
       "75%      2.103723     1.0  \n",
       "max     13.421196     1.0  "
      ]
     },
     "execution_count": 17,
     "metadata": {},
     "output_type": "execute_result"
    }
   ],
   "source": [
    "data.describe()"
   ]
  },
  {
   "cell_type": "code",
   "execution_count": 19,
   "metadata": {},
   "outputs": [
    {
     "data": {
      "text/plain": [
       "X         float64\n",
       "Y         float64\n",
       "Z         float64\n",
       "BHID       object\n",
       "LENGTH    float64\n",
       "A0        float64\n",
       "B0        float64\n",
       "C0          int64\n",
       "FROM      float64\n",
       "TO        float64\n",
       "Zn        float64\n",
       "Ag        float64\n",
       "Pb        float64\n",
       "RADIUS      int64\n",
       "dtype: object"
      ]
     },
     "execution_count": 19,
     "metadata": {},
     "output_type": "execute_result"
    }
   ],
   "source": [
    "data.dtypes"
   ]
  },
  {
   "cell_type": "code",
   "execution_count": 22,
   "metadata": {},
   "outputs": [
    {
     "data": {
      "text/html": [
       "<div>\n",
       "<style scoped>\n",
       "    .dataframe tbody tr th:only-of-type {\n",
       "        vertical-align: middle;\n",
       "    }\n",
       "\n",
       "    .dataframe tbody tr th {\n",
       "        vertical-align: top;\n",
       "    }\n",
       "\n",
       "    .dataframe thead th {\n",
       "        text-align: right;\n",
       "    }\n",
       "</style>\n",
       "<table border=\"1\" class=\"dataframe\">\n",
       "  <thead>\n",
       "    <tr style=\"text-align: right;\">\n",
       "      <th></th>\n",
       "      <th>X</th>\n",
       "      <th>Y</th>\n",
       "      <th>Z</th>\n",
       "      <th>BHID</th>\n",
       "      <th>LENGTH</th>\n",
       "      <th>A0</th>\n",
       "      <th>B0</th>\n",
       "      <th>C0</th>\n",
       "      <th>FROM</th>\n",
       "      <th>TO</th>\n",
       "      <th>Zn</th>\n",
       "      <th>Ag</th>\n",
       "      <th>Pb</th>\n",
       "      <th>RADIUS</th>\n",
       "    </tr>\n",
       "  </thead>\n",
       "  <tbody>\n",
       "    <tr>\n",
       "      <th>0</th>\n",
       "      <td>False</td>\n",
       "      <td>False</td>\n",
       "      <td>False</td>\n",
       "      <td>False</td>\n",
       "      <td>False</td>\n",
       "      <td>False</td>\n",
       "      <td>False</td>\n",
       "      <td>False</td>\n",
       "      <td>False</td>\n",
       "      <td>False</td>\n",
       "      <td>False</td>\n",
       "      <td>False</td>\n",
       "      <td>False</td>\n",
       "      <td>False</td>\n",
       "    </tr>\n",
       "    <tr>\n",
       "      <th>1</th>\n",
       "      <td>False</td>\n",
       "      <td>False</td>\n",
       "      <td>False</td>\n",
       "      <td>False</td>\n",
       "      <td>False</td>\n",
       "      <td>False</td>\n",
       "      <td>False</td>\n",
       "      <td>False</td>\n",
       "      <td>False</td>\n",
       "      <td>False</td>\n",
       "      <td>False</td>\n",
       "      <td>False</td>\n",
       "      <td>False</td>\n",
       "      <td>False</td>\n",
       "    </tr>\n",
       "    <tr>\n",
       "      <th>2</th>\n",
       "      <td>False</td>\n",
       "      <td>False</td>\n",
       "      <td>False</td>\n",
       "      <td>False</td>\n",
       "      <td>False</td>\n",
       "      <td>False</td>\n",
       "      <td>False</td>\n",
       "      <td>False</td>\n",
       "      <td>False</td>\n",
       "      <td>False</td>\n",
       "      <td>False</td>\n",
       "      <td>False</td>\n",
       "      <td>False</td>\n",
       "      <td>False</td>\n",
       "    </tr>\n",
       "    <tr>\n",
       "      <th>3</th>\n",
       "      <td>False</td>\n",
       "      <td>False</td>\n",
       "      <td>False</td>\n",
       "      <td>False</td>\n",
       "      <td>False</td>\n",
       "      <td>False</td>\n",
       "      <td>False</td>\n",
       "      <td>False</td>\n",
       "      <td>False</td>\n",
       "      <td>False</td>\n",
       "      <td>False</td>\n",
       "      <td>False</td>\n",
       "      <td>False</td>\n",
       "      <td>False</td>\n",
       "    </tr>\n",
       "    <tr>\n",
       "      <th>4</th>\n",
       "      <td>False</td>\n",
       "      <td>False</td>\n",
       "      <td>False</td>\n",
       "      <td>False</td>\n",
       "      <td>False</td>\n",
       "      <td>False</td>\n",
       "      <td>False</td>\n",
       "      <td>False</td>\n",
       "      <td>False</td>\n",
       "      <td>False</td>\n",
       "      <td>False</td>\n",
       "      <td>False</td>\n",
       "      <td>False</td>\n",
       "      <td>False</td>\n",
       "    </tr>\n",
       "    <tr>\n",
       "      <th>...</th>\n",
       "      <td>...</td>\n",
       "      <td>...</td>\n",
       "      <td>...</td>\n",
       "      <td>...</td>\n",
       "      <td>...</td>\n",
       "      <td>...</td>\n",
       "      <td>...</td>\n",
       "      <td>...</td>\n",
       "      <td>...</td>\n",
       "      <td>...</td>\n",
       "      <td>...</td>\n",
       "      <td>...</td>\n",
       "      <td>...</td>\n",
       "      <td>...</td>\n",
       "    </tr>\n",
       "    <tr>\n",
       "      <th>729</th>\n",
       "      <td>False</td>\n",
       "      <td>False</td>\n",
       "      <td>False</td>\n",
       "      <td>False</td>\n",
       "      <td>False</td>\n",
       "      <td>False</td>\n",
       "      <td>False</td>\n",
       "      <td>False</td>\n",
       "      <td>False</td>\n",
       "      <td>False</td>\n",
       "      <td>False</td>\n",
       "      <td>False</td>\n",
       "      <td>False</td>\n",
       "      <td>False</td>\n",
       "    </tr>\n",
       "    <tr>\n",
       "      <th>730</th>\n",
       "      <td>False</td>\n",
       "      <td>False</td>\n",
       "      <td>False</td>\n",
       "      <td>False</td>\n",
       "      <td>False</td>\n",
       "      <td>False</td>\n",
       "      <td>False</td>\n",
       "      <td>False</td>\n",
       "      <td>False</td>\n",
       "      <td>False</td>\n",
       "      <td>False</td>\n",
       "      <td>False</td>\n",
       "      <td>False</td>\n",
       "      <td>False</td>\n",
       "    </tr>\n",
       "    <tr>\n",
       "      <th>731</th>\n",
       "      <td>False</td>\n",
       "      <td>False</td>\n",
       "      <td>False</td>\n",
       "      <td>False</td>\n",
       "      <td>False</td>\n",
       "      <td>False</td>\n",
       "      <td>False</td>\n",
       "      <td>False</td>\n",
       "      <td>False</td>\n",
       "      <td>False</td>\n",
       "      <td>False</td>\n",
       "      <td>False</td>\n",
       "      <td>False</td>\n",
       "      <td>False</td>\n",
       "    </tr>\n",
       "    <tr>\n",
       "      <th>732</th>\n",
       "      <td>False</td>\n",
       "      <td>False</td>\n",
       "      <td>False</td>\n",
       "      <td>False</td>\n",
       "      <td>False</td>\n",
       "      <td>False</td>\n",
       "      <td>False</td>\n",
       "      <td>False</td>\n",
       "      <td>False</td>\n",
       "      <td>False</td>\n",
       "      <td>False</td>\n",
       "      <td>False</td>\n",
       "      <td>False</td>\n",
       "      <td>False</td>\n",
       "    </tr>\n",
       "    <tr>\n",
       "      <th>733</th>\n",
       "      <td>False</td>\n",
       "      <td>False</td>\n",
       "      <td>False</td>\n",
       "      <td>False</td>\n",
       "      <td>False</td>\n",
       "      <td>False</td>\n",
       "      <td>False</td>\n",
       "      <td>False</td>\n",
       "      <td>False</td>\n",
       "      <td>False</td>\n",
       "      <td>False</td>\n",
       "      <td>False</td>\n",
       "      <td>False</td>\n",
       "      <td>False</td>\n",
       "    </tr>\n",
       "  </tbody>\n",
       "</table>\n",
       "<p>734 rows × 14 columns</p>\n",
       "</div>"
      ],
      "text/plain": [
       "         X      Y      Z   BHID  LENGTH     A0     B0     C0   FROM     TO  \\\n",
       "0    False  False  False  False   False  False  False  False  False  False   \n",
       "1    False  False  False  False   False  False  False  False  False  False   \n",
       "2    False  False  False  False   False  False  False  False  False  False   \n",
       "3    False  False  False  False   False  False  False  False  False  False   \n",
       "4    False  False  False  False   False  False  False  False  False  False   \n",
       "..     ...    ...    ...    ...     ...    ...    ...    ...    ...    ...   \n",
       "729  False  False  False  False   False  False  False  False  False  False   \n",
       "730  False  False  False  False   False  False  False  False  False  False   \n",
       "731  False  False  False  False   False  False  False  False  False  False   \n",
       "732  False  False  False  False   False  False  False  False  False  False   \n",
       "733  False  False  False  False   False  False  False  False  False  False   \n",
       "\n",
       "        Zn     Ag     Pb  RADIUS  \n",
       "0    False  False  False   False  \n",
       "1    False  False  False   False  \n",
       "2    False  False  False   False  \n",
       "3    False  False  False   False  \n",
       "4    False  False  False   False  \n",
       "..     ...    ...    ...     ...  \n",
       "729  False  False  False   False  \n",
       "730  False  False  False   False  \n",
       "731  False  False  False   False  \n",
       "732  False  False  False   False  \n",
       "733  False  False  False   False  \n",
       "\n",
       "[734 rows x 14 columns]"
      ]
     },
     "execution_count": 22,
     "metadata": {},
     "output_type": "execute_result"
    }
   ],
   "source": [
    "pd.isnull(data)"
   ]
  },
  {
   "cell_type": "code",
   "execution_count": 23,
   "metadata": {},
   "outputs": [
    {
     "data": {
      "text/plain": [
       "0"
      ]
     },
     "execution_count": 23,
     "metadata": {},
     "output_type": "execute_result"
    }
   ],
   "source": [
    "pd.isnull(data).values.ravel().sum()"
   ]
  },
  {
   "cell_type": "markdown",
   "metadata": {},
   "source": [
    "## GRAFICAS PARA ANALISIS"
   ]
  },
  {
   "cell_type": "markdown",
   "metadata": {},
   "source": [
    "### Scatter Plot"
   ]
  },
  {
   "cell_type": "code",
   "execution_count": 32,
   "metadata": {},
   "outputs": [
    {
     "data": {
      "text/plain": [
       "<AxesSubplot:xlabel='Pb', ylabel='Zn'>"
      ]
     },
     "execution_count": 32,
     "metadata": {},
     "output_type": "execute_result"
    },
    {
     "data": {
      "image/png": "[encoded data removed]",
      "text/plain": [
       "<Figure size 432x288 with 4 Axes>"
      ]
     },
     "metadata": {
      "needs_background": "light"
     },
     "output_type": "display_data"
    }
   ],
   "source": [
    "figure, axs = plt.subplots(2,2, sharey=True, sharex=True)\n",
    "data.plot(kind=\"scatter\", x=\"Zn\", y =\"Ag\", ax=axs[0][0])\n",
    "data.plot(kind=\"scatter\", x=\"Zn\", y=\"Pb\", ax=axs[0][1])\n",
    "data.plot(kind=\"scatter\", x=\"Ag\", y =\"Pb\", ax=axs[1][0])\n",
    "data.plot(kind=\"scatter\", x=\"Pb\", y=\"Zn\", ax=axs[1][1])"
   ]
  },
  {
   "cell_type": "markdown",
   "metadata": {},
   "source": [
    "### Histograma de Frecuencias"
   ]
  },
  {
   "cell_type": "code",
   "execution_count": 35,
   "metadata": {},
   "outputs": [
    {
     "data": {
      "text/plain": [
       "Text(0.5, 1.0, 'Histograma de Zn')"
      ]
     },
     "execution_count": 35,
     "metadata": {},
     "output_type": "execute_result"
    },
    {
     "data": {
      "image/png": "[encoded data removed]",
      "text/plain": [
       "<Figure size 432x288 with 1 Axes>"
      ]
     },
     "metadata": {
      "needs_background": "light"
     },
     "output_type": "display_data"
    }
   ],
   "source": [
    "k = int(np.ceil(1+np.log2(3333)))\n",
    "plt.hist(data[\"Zn\"], bins = k) #bins = [0,30,60,...,200]\n",
    "plt.xlabel(\"Ley de Zn\")\n",
    "plt.ylabel(\"Frecuencia\")\n",
    "plt.title(\"Histograma de Zn\")"
   ]
  },
  {
   "cell_type": "code",
   "execution_count": 36,
   "metadata": {},
   "outputs": [
    {
     "data": {
      "text/plain": [
       "Text(0.5, 1.0, 'Histograma de Ag')"
      ]
     },
     "execution_count": 36,
     "metadata": {},
     "output_type": "execute_result"
    },
    {
     "data": {
      "image/png": "[encoded data removed]",
      "text/plain": [
       "<Figure size 432x288 with 1 Axes>"
      ]
     },
     "metadata": {
      "needs_background": "light"
     },
     "output_type": "display_data"
    }
   ],
   "source": [
    "k = int(np.ceil(1+np.log2(3333)))\n",
    "plt.hist(data[\"Ag\"], bins = k) #bins = [0,30,60,...,200]\n",
    "plt.xlabel(\"Ley de Ag\")\n",
    "plt.ylabel(\"Frecuencia\")\n",
    "plt.title(\"Histograma de Ag\")"
   ]
  },
  {
   "cell_type": "code",
   "execution_count": 37,
   "metadata": {},
   "outputs": [
    {
     "data": {
      "text/plain": [
       "Text(0.5, 1.0, 'Histograma de Pb')"
      ]
     },
     "execution_count": 37,
     "metadata": {},
     "output_type": "execute_result"
    },
    {
     "data": {
      "image/png": "[encoded data removed]",
      "text/plain": [
       "<Figure size 432x288 with 1 Axes>"
      ]
     },
     "metadata": {
      "needs_background": "light"
     },
     "output_type": "display_data"
    }
   ],
   "source": [
    "k = int(np.ceil(1+np.log2(3333)))\n",
    "plt.hist(data[\"Pb\"], bins = k) #bins = [0,30,60,...,200]\n",
    "plt.xlabel(\"Ley de Pb\")\n",
    "plt.ylabel(\"Frecuencia\")\n",
    "plt.title(\"Histograma de Pb\")"
   ]
  },
  {
   "cell_type": "markdown",
   "metadata": {},
   "source": [
    "### Boxplot - Diagrama de Caja y Bigote"
   ]
  },
  {
   "cell_type": "code",
   "execution_count": 38,
   "metadata": {},
   "outputs": [
    {
     "data": {
      "text/plain": [
       "Text(0.5, 1.0, 'Boxplot de Zn')"
      ]
     },
     "execution_count": 38,
     "metadata": {},
     "output_type": "execute_result"
    },
    {
     "data": {
      "image/png": "[encoded data removed]",
      "text/plain": [
       "<Figure size 432x288 with 1 Axes>"
      ]
     },
     "metadata": {
      "needs_background": "light"
     },
     "output_type": "display_data"
    }
   ],
   "source": [
    "plt.boxplot(data[\"Zn\"])\n",
    "plt.ylabel(\"Leyes Zn\")\n",
    "plt.title(\"Boxplot de Zn\")"
   ]
  },
  {
   "cell_type": "code",
   "execution_count": 39,
   "metadata": {},
   "outputs": [
    {
     "data": {
      "text/plain": [
       "Text(0.5, 1.0, 'Boxplot de Ag')"
      ]
     },
     "execution_count": 39,
     "metadata": {},
     "output_type": "execute_result"
    },
    {
     "data": {
      "image/png": "[encoded data removed]",
      "text/plain": [
       "<Figure size 432x288 with 1 Axes>"
      ]
     },
     "metadata": {
      "needs_background": "light"
     },
     "output_type": "display_data"
    }
   ],
   "source": [
    "plt.boxplot(data[\"Ag\"])\n",
    "plt.ylabel(\"Leyes Ag\")\n",
    "plt.title(\"Boxplot de Ag\")"
   ]
  },
  {
   "cell_type": "code",
   "execution_count": 40,
   "metadata": {},
   "outputs": [
    {
     "data": {
      "text/plain": [
       "Text(0.5, 1.0, 'Boxplot de Pb')"
      ]
     },
     "execution_count": 40,
     "metadata": {},
     "output_type": "execute_result"
    },
    {
     "data": {
      "image/png": "[encoded data removed]",
      "text/plain": [
       "<Figure size 432x288 with 1 Axes>"
      ]
     },
     "metadata": {
      "needs_background": "light"
     },
     "output_type": "display_data"
    }
   ],
   "source": [
    "plt.boxplot(data[\"Pb\"])\n",
    "plt.ylabel(\"Leyes Pb\")\n",
    "plt.title(\"Boxplot de Pb\")"
   ]
  },
  {
   "cell_type": "code",
   "execution_count": null,
   "metadata": {},
   "outputs": [],
   "source": []
  }
 ],
 "metadata": {
  "kernelspec": {
   "display_name": "Python 3",
   "language": "python",
   "name": "python3"
  },
  "language_info": {
   "codemirror_mode": {
    "name": "ipython",
    "version": 3
   },
   "file_extension": ".py",
   "mimetype": "text/x-python",
   "name": "python",
   "nbconvert_exporter": "python",
   "pygments_lexer": "ipython3",
   "version": "3.8.5"
  }
 },
 "nbformat": 4,
 "nbformat_minor": 4
}
