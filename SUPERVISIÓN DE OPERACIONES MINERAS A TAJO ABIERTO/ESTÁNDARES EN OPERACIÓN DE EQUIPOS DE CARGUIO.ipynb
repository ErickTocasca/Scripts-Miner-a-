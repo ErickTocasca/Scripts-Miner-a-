{
 "cells": [
  {
   "cell_type": "markdown",
   "metadata": {},
   "source": [
    "## IMPORTANCIA DE LOS ESTÁNDARES\n",
    "* El estándar es todo aquello que puede tomarse como referencia, patrón o modelo.\n",
    "* En las operaciones mineras se debe tener un modelo o patrón en todas las actividades.\n",
    "* Estos se aplican en las unidades operativas: Perforación, Carguío, Acarreo, Servicios Auxiliares, Transprte, etc.\n"
   ]
  },
  {
   "cell_type": "markdown",
   "metadata": {},
   "source": [
    "## ESTÁNDARES DE CARGUÍO CON PALAS\n",
    "1. Llenar el cucharon completamente.\n",
    "\n",
    "2. Carga bien centrada en la tolva de los camiones.\n",
    "\n",
    "3. Payload: Tolvas llenadas en su máxima capacidad.\n",
    "\n",
    "4. Orugas perpendiculares al frente de minado.\n",
    "\n",
    "5. Buena secuencia de minado.\n",
    "\n",
    "6. Limpiar las colas de material dejados.\n",
    "\n",
    "7. Despachar en el momento oportuno.\n",
    "\n",
    "8. Minimizar el ángulo de giro entre la tolva y el frente.\n",
    "\n",
    "9. Girar y bajar el cucharon para el próximo pase.\n",
    "\n",
    "10. Buena actitud y comunicación.\n",
    "\n",
    "11. Correcto cuadrado de camiones y corrección.\n",
    "\n",
    "12. Correcta limpieza de piso de pala con equipo auxiliar.\n",
    "\n",
    "13. Tiempo por pasada optimo.\n",
    "\n",
    "14. Carga en la parte alta del frente.\n",
    "\n",
    "15. Llevar el frente ordenado, amplio y entregarlo bien al relevo."
   ]
  },
  {
   "cell_type": "markdown",
   "metadata": {},
   "source": [
    "## MALAS PRÁCTICAS EN LAS OPERACIONES CON PALAS\n",
    "1. Camión cruzado temerariamente delante de la pala.\n",
    "\n",
    "2. Cucharón con poca carga y camión mal cuadrado.\n",
    "\n",
    "3. Carga mal centrada.\n",
    "\n",
    "4. Impacto camión con cucharón de pala.\n",
    "\n",
    "5. Tractor cruza delante de la Pala innecesariamente.\n",
    "\n",
    "6. Equipo no adecuado para limpieza de piso.\n",
    "\n",
    "7. Minado en callejón.\n",
    "\n",
    "8. Despacho excesivamente lento.\n",
    "\n",
    "9. Movimiento lento de giro e izaje.\n",
    "\n",
    "10. Excesiva abertura de cucharón e innecesaria sacudida de la misma.\n",
    "\n",
    "11. Excesivo material pegado en la tolva. Escavadora limpieza de tolva, cucharon de pala"
   ]
  }
 ],
 "metadata": {
  "kernelspec": {
   "display_name": "Python 3",
   "language": "python",
   "name": "python3"
  },
  "language_info": {
   "codemirror_mode": {
    "name": "ipython",
    "version": 3
   },
   "file_extension": ".py",
   "mimetype": "text/x-python",
   "name": "python",
   "nbconvert_exporter": "python",
   "pygments_lexer": "ipython3",
   "version": "3.8.5"
  }
 },
 "nbformat": 4,
 "nbformat_minor": 4
}
